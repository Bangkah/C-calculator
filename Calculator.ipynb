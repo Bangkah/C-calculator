def kalkulator():
    print("=== Kalkulator Sederhana ===")
    print("1. Tambah")
    print("2. Kurang")
    print("3. Kali")
    print("4. Bagi")

    try:
        operasi = int(input("Pilih operasi (1-4): "))
        a = float(input("Masukkan angka pertama: "))
        b = float(input("Masukkan angka kedua: "))
    except ValueError:
        print("Input tidak valid.")
        return

    if operasi == 1:
        hasil = a + b
        simbol = '+'
    elif operasi == 2:
        hasil = a - b
        simbol = '-'
    elif operasi == 3:
        hasil = a * b
        simbol = '*'
    elif operasi == 4:
        if b == 0:
            print("Error: pembagian dengan nol")
            return
        hasil = a / b
        simbol = '/'
    else:
        print("Pilihan tidak tersedia.")
        return

    print(f"Hasil: {a} {simbol} {b} = {hasil}")

Jalankan
kalkulator()
